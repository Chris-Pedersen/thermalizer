{
 "cells": [
  {
   "cell_type": "code",
   "execution_count": 1,
   "id": "3cb4f5d6-487f-404a-a274-36c55908eae2",
   "metadata": {},
   "outputs": [],
   "source": [
    "import thermalizer.models.misc as misc\n",
    "import thermalizer.kolmogorov.simulate as simulate\n",
    "import thermalizer.kolmogorov.performance as performance\n",
    "import torch\n",
    "import seaborn as sns\n",
    "\n",
    "\n",
    "import matplotlib.pyplot as plt\n",
    "from tqdm import tqdm\n",
    "import math\n",
    "import numpy as np"
   ]
  },
  {
   "cell_type": "code",
   "execution_count": 2,
   "id": "a1899407-2b89-41fd-80e3-23d60398e927",
   "metadata": {},
   "outputs": [
    {
     "name": "stdout",
     "output_type": "stream",
     "text": [
      "torch.Size([64, 10000, 64, 64])\n",
      "torch.Size([5, 3000, 64, 64])\n"
     ]
    }
   ],
   "source": [
    "sims_cut=20\n",
    "steps_cut=3000\n",
    "\n",
    "model_emu=misc.load_model(\"/scratch/cp3759/thermalizer_data/wandb_data/wandb/run-20240416_052452-12d2m6kr/files/model_weights.pt\")\n",
    "test_data=torch.load(\"/scratch/cp3759/thermalizer_data/kolmogorov/test_suite/all.pt\")\n",
    "print(test_data.shape)\n",
    "#test_data=test_data[:sims_cut,:steps_cut]\n",
    "test_data=test_data[10:15,:steps_cut]\n",
    "print(test_data.shape)"
   ]
  },
  {
   "cell_type": "code",
   "execution_count": 3,
   "id": "e78f87de-1df1-4702-aca6-7652e86d1315",
   "metadata": {},
   "outputs": [],
   "source": [
    "import thermalizer.kolmogorov.util as util\n",
    "import kymatio\n",
    "from kymatio.torch import Scattering2D\n",
    "from torch import optim\n",
    "import torch.nn.functional as F\n",
    "\n",
    "class ThermalizeKolmogorovScattering():\n",
    "    def __init__(self,test_suite,model_emu,thermalize_delay=100,thermalize_interval=5,thermalize_timesteps=1,thermalize_lr=0.05,loss_crit=0.00015):\n",
    "        self.test_suite=(test_suite/model_emu.config[\"field_std\"])\n",
    "        self.model_emu=model_emu\n",
    "        self.scattering=Scattering2D(J=2, shape=(self.test_suite.shape[-1],self.test_suite.shape[-1]), max_order=2)\n",
    "        self.thermalize_delay=thermalize_delay\n",
    "        self.thermalize_interval=thermalize_interval\n",
    "        self.thermalize_timesteps=thermalize_timesteps\n",
    "        self.thermalize_lr=thermalize_lr\n",
    "        self.loss_crit=loss_crit\n",
    "        self.aa=1 ## Step counter\n",
    "\n",
    "        ## Set up field tensors\n",
    "        self.emu=torch.zeros(self.test_suite.shape)\n",
    "        self.therm=torch.zeros(self.test_suite.shape)\n",
    "\n",
    "        ## Ensure models are in eval\n",
    "        self.model_emu.eval()\n",
    "        \n",
    "        if torch.cuda.is_available():\n",
    "            self.device=torch.device('cuda')\n",
    "            ## Put models on GPU\n",
    "            self.model_emu=self.model_emu.to(self.device)\n",
    "            self.scattering=self.scattering.cuda()\n",
    "            ## Put tensors on GPU\n",
    "            self.test_suite=self.test_suite.to(self.device)\n",
    "            self.emu=self.emu.to(self.device)\n",
    "            self.therm=self.therm.to(self.device)\n",
    "\n",
    "        ## Set t=0 to be the same\n",
    "        self.emu[:,0,:,:]=self.test_suite[:,0,:,:]\n",
    "        self.therm[:,0,:,:]=self.test_suite[:,0,:,:]\n",
    "\n",
    "        self._init_metrics()\n",
    "        ## Hardcode scattering coeff target for Kolmogorov flow\n",
    "        self.scattering_target=torch.tensor([0.0, 0.0923, 0.0862, 0.0851, 0.0824, 0.0841, 0.0855, 0.0925, 0.0932, 0.1364,\n",
    "                                0.1256, 0.1228, 0.1233, 0.1220, 0.1248, 0.1355, 0.1439, 0.0145, 0.0124,\n",
    "                                0.0093, 0.0079, 0.0074, 0.0076, 0.0094, 0.0130, 0.0125, 0.0142, 0.0121,\n",
    "                                0.0094, 0.0079, 0.0075, 0.0079, 0.0096, 0.0092, 0.0119, 0.0135, 0.0120,\n",
    "                                0.0089, 0.0074, 0.0073, 0.0079, 0.0077, 0.0086, 0.0113, 0.0133, 0.0113,\n",
    "                                0.0086, 0.0076, 0.0077, 0.0074, 0.0075, 0.0089, 0.0119, 0.0135, 0.0118,\n",
    "                                0.0091, 0.0079, 0.0080, 0.0075, 0.0079, 0.0093, 0.0121, 0.0142, 0.0126,\n",
    "                                0.0097, 0.0095, 0.0076, 0.0074, 0.0079, 0.0093, 0.0126, 0.0149, 0.0130,\n",
    "                                0.0124, 0.0091, 0.0077, 0.0076, 0.0077, 0.0092, 0.0126, 0.0149],device=self.device)\n",
    "        self.scattering_target=self.scattering_target.repeat(len(self.test_suite),1)\n",
    "\n",
    "    def _init_metrics(self):\n",
    "        self.mseloss=torch.nn.MSELoss(reduction=\"none\")\n",
    "        ## Set up metric tensors\n",
    "        self.mse_auto=torch.zeros(self.test_suite.shape[0],self.test_suite.shape[1])\n",
    "        self.mse_emu=torch.zeros(self.test_suite.shape[0],self.test_suite.shape[1])\n",
    "        self.mse_therm=torch.zeros(self.test_suite.shape[0],self.test_suite.shape[1])\n",
    "\n",
    "        self.autocorr=[]\n",
    "        self.corr_emu=[]\n",
    "        self.corr_therm=[]\n",
    "\n",
    "        self.grid=util.fourierGrid(64)\n",
    "        self.ke_true=torch.zeros(self.test_suite.shape[0],self.test_suite.shape[1],len(self.grid.k1d_plot))\n",
    "        self.ke_emu=torch.zeros(self.ke_true.shape)\n",
    "        self.ke_therm=torch.zeros(self.ke_true.shape)\n",
    "\n",
    "        ## Log the number of thermalization steps for each sim\n",
    "        self.therm_steps=torch.zeros((self.test_suite.shape[0],self.test_suite.shape[1]),device=self.device)\n",
    "\n",
    "        return\n",
    "\n",
    "    def _scattering_therm(self,inp_field,lr=0.05):\n",
    "        \"\"\" Thermalize using scattering coefficients. Run steps of gradient\n",
    "            descent on the emulator fields, to match wavelet coefficients of the\n",
    "            true fields \"\"\"\n",
    "        inp_field=inp_field.contiguous().requires_grad_(requires_grad=True)\n",
    "        optimizer = optim.Adam([inp_field], lr=lr)\n",
    "\n",
    "        loss=100\n",
    "        nsteps=0\n",
    "        while loss>self.loss_crit:\n",
    "            optimizer.zero_grad()\n",
    "            new_coefficients=self.scattering(inp_field)\n",
    "            loss = F.mse_loss(input=torch.mean(new_coefficients,axis=(-2,-1)).squeeze(), target=self.scattering_target)\n",
    "            #print(\"Epoch {}, loss: {}\".format(aa, loss.item()), end=\"\\r\")\n",
    "            loss.backward()\n",
    "            optimizer.step()\n",
    "            nsteps+=1\n",
    "        return inp_field.squeeze().detach(),nsteps\n",
    "        \n",
    "    def step_forward(self):\n",
    "        ## aa is timestep index\n",
    "        #for aa in tqdm(range(1,len(self.test_suite[1]))):\n",
    "        aa=self.aa\n",
    "        with torch.no_grad():\n",
    "            ## Step fields forward\n",
    "            emu_unsq=self.emu[:,aa-1,:,:].unsqueeze(1)\n",
    "            self.emu[:,aa,:,:]=(self.model_emu(emu_unsq)+emu_unsq).squeeze()\n",
    "            \n",
    "            therm_unsq=self.therm[:,aa-1,:,:].unsqueeze(1)\n",
    "            self.therm[:,aa,:,:]=(self.model_emu(therm_unsq)+therm_unsq).squeeze()\n",
    "            \n",
    "        therm_now=self.therm[:,aa,:,:].contiguous()\n",
    "        #therm_now=self.test_suite[:,aa,:,:].contiguous()\n",
    "\n",
    "        ## Temporarily do this with a real rollout - this should never need to be thermalized lol\n",
    "\n",
    "        \n",
    "        ## Should thermalize? Get scattering coeffs - for all fields with MSE greater\n",
    "        ## than criterion, run gradient descent\n",
    "        test_coeffs=self.scattering(therm_now)\n",
    "        loss=F.mse_loss(input=torch.mean(test_coeffs,axis=(-2,-1)).squeeze(),target=self.scattering_target,reduction=\"none\")\n",
    "        loss=torch.mean(loss,axis=-1)\n",
    "        #print(loss)\n",
    "        #print(loss.shape)\n",
    "\n",
    "        if torch.max(loss)>self.loss_crit:\n",
    "            #print(\"need to thermalize\")\n",
    "            #print(torch.max(loss))\n",
    "            for bb in range(len(loss)):\n",
    "                if loss[bb]>self.loss_crit:\n",
    "                    thermed,steps=self._scattering_therm(therm_now[bb],lr=self.thermalize_lr)\n",
    "                    self.therm[bb,aa,:,:]=thermed\n",
    "                    self.therm_steps[bb,aa]=steps\n",
    "                else:\n",
    "                    self.therm_steps[bb,aa]=0\n",
    "\n",
    "        else:\n",
    "            self.therm_steps[:,aa]=torch.zeros(self.test_suite.shape[0])\n",
    "                    \n",
    "\n",
    "        #should_thermalize = (aa % self.thermalize_interval == 0) and (aa>self.thermalize_delay)\n",
    "        #if should_thermalize:\n",
    "        #    thermed=self._scattering_therm(self.therm[:,aa,:,:].unsqueeze(1),self.thermalize_timesteps,self.thermalize_lr)\n",
    "        #    self.therm[:,aa,:,:]=thermed\n",
    "\n",
    "        ## MSE metrics\n",
    "        loss=self.mseloss(therm_rollout.test_suite[:,0],therm_rollout.test_suite[:,aa])\n",
    "        self.mse_auto[:,aa]=torch.mean(loss,dim=(1,2))\n",
    "        loss=self.mseloss(therm_rollout.test_suite[:,aa],therm_rollout.emu[:,aa])\n",
    "        self.mse_emu[:,aa]=torch.mean(loss,dim=(1,2))\n",
    "        loss=self.mseloss(therm_rollout.test_suite[:,aa],therm_rollout.therm[:,aa])\n",
    "        self.mse_therm[:,aa]=torch.mean(loss,dim=(1,2))\n",
    "        self.aa+=1\n",
    "\n",
    "    def evolve(self,counter=None):\n",
    "        for aa in tqdm(range(1,len(self.test_suite[1]))):\n",
    "            self.step_forward()\n",
    "\n",
    "    def _KE_spectra(self):\n",
    "        ## Move to cpu for KE spectra calculation\n",
    "        self.test_suite=self.test_suite.to(\"cpu\")\n",
    "        self.emu=self.emu.to(\"cpu\")\n",
    "        self.therm=self.therm.to(\"cpu\")\n",
    "        for aa in tqdm(range(1,len(self.test_suite[1]))):\n",
    "            for bb in range(0,len(self.test_suite[0])):\n",
    "                _,ke=util.get_ke(self.test_suite[aa,bb],self.grid)\n",
    "                self.ke_true[aa,bb]=torch.tensor(ke)\n",
    "                _,ke=util.get_ke(self.emu[aa,bb],self.grid)\n",
    "                self.ke_emu[aa,bb]=torch.tensor(ke)\n",
    "                _,ke=util.get_ke(self.therm[aa,bb],self.grid)\n",
    "\n",
    "                \n",
    "                self.ke_therm[aa,bb]=torch.tensor(ke)\n",
    "  \n",
    "        ## Move to back to gpu\n",
    "        self.test_suite=self.test_suite.to(self.device)\n",
    "        self.emu=self.emu.to(self.device)\n",
    "        self.therm=self.therm.to(self.device)"
   ]
  },
  {
   "cell_type": "code",
   "execution_count": 4,
   "id": "8c5fd79a-e626-42a3-8409-399d57969b81",
   "metadata": {},
   "outputs": [
    {
     "name": "stderr",
     "output_type": "stream",
     "text": [
      "An NVIDIA GPU may be present on this machine, but a CUDA-enabled jaxlib is not installed. Falling back to cpu.\n"
     ]
    }
   ],
   "source": [
    "therm_rollout=ThermalizeKolmogorovScattering(test_data,model_emu,thermalize_delay=50,thermalize_interval=1,thermalize_timesteps=20,thermalize_lr=0.1,loss_crit=0.00021)"
   ]
  },
  {
   "cell_type": "code",
   "execution_count": 5,
   "id": "03161ed3-35cc-4c9d-8d6c-92913158b136",
   "metadata": {
    "scrolled": true
   },
   "outputs": [
    {
     "name": "stderr",
     "output_type": "stream",
     "text": [
      "  2%|▏         | 67/2999 [00:14<01:38, 29.75it/s]  /state/partition1/job-45985957/ipykernel_1988109/4062100488.py:86: UserWarning: Using a target size (torch.Size([5, 81])) that is different to the input size (torch.Size([81])). This will likely lead to incorrect results due to broadcasting. Please ensure they have the same size.\n",
      "  loss = F.mse_loss(input=torch.mean(new_coefficients,axis=(-2,-1)).squeeze(), target=self.scattering_target)\n",
      "100%|██████████| 2999/2999 [19:10<00:00,  2.61it/s]\n"
     ]
    }
   ],
   "source": [
    "therm_rollout.evolve()"
   ]
  },
  {
   "cell_type": "code",
   "execution_count": null,
   "id": "b30f1538-15f4-442a-9cd2-149a2bd37fdc",
   "metadata": {},
   "outputs": [],
   "source": [
    "for aa in tqdm(range(3000)):\n",
    "    therm_rollout.step_forward()"
   ]
  },
  {
   "cell_type": "code",
   "execution_count": null,
   "id": "4286353b-4d44-445e-b30e-599eefc356e7",
   "metadata": {},
   "outputs": [],
   "source": [
    "therm_rollout.aa"
   ]
  },
  {
   "cell_type": "code",
   "execution_count": 6,
   "id": "a656fbae-e53c-4deb-a2d1-230f37cee1a2",
   "metadata": {},
   "outputs": [
    {
     "data": {
      "image/png": "[encoded data removed]",
      "text/plain": [
       "<Figure size 640x480 with 1 Axes>"
      ]
     },
     "metadata": {},
     "output_type": "display_data"
    }
   ],
   "source": [
    "for aa in range(therm_rollout.test_suite.shape[0]):\n",
    "    plt.plot(therm_rollout.therm_steps[aa].cpu())"
   ]
  },
  {
   "cell_type": "code",
   "execution_count": null,
   "id": "7badf43c-395a-4e02-b66b-9b9e9d86c62b",
   "metadata": {},
   "outputs": [],
   "source": [
    "plt.plot(therm_rollout.therm_steps[-2].cpu(),\"o\")\n",
    "plt.xlabel(\"Emulator step\")\n",
    "plt.ylabel(\"Gradient descent steps\")\n",
    "plt.title(\"Gradient descent on scattering moments during emulator rollout\")"
   ]
  },
  {
   "cell_type": "code",
   "execution_count": null,
   "id": "cbd40b67-8f6e-4a8e-abfe-b3eeb4f3fec0",
   "metadata": {},
   "outputs": [],
   "source": [
    "mse_ave=torch.load(\"/scratch/cp3759/thermalizer_data/kolmogorov/sim_diverge.pt\")//model_emu.config[\"field_std\"]"
   ]
  },
  {
   "cell_type": "code",
   "execution_count": 7,
   "id": "30ba04d3-99d6-4323-8202-f820aef7415a",
   "metadata": {},
   "outputs": [
    {
     "data": {
      "text/plain": [
       "Text(0.5, 0, '# of steps')"
      ]
     },
     "execution_count": 7,
     "metadata": {},
     "output_type": "execute_result"
    },
    {
     "data": {
      "image/png": "[encoded data removed]",
      "text/plain": [
       "<Figure size 640x480 with 1 Axes>"
      ]
     },
     "metadata": {},
     "output_type": "display_data"
    }
   ],
   "source": [
    "plt.title(\"MSE wrt. true trajectory\")\n",
    "plt.loglog(therm_rollout.mse_emu[0],color=\"blue\",alpha=0.2,label=\"Emulator\")\n",
    "plt.loglog(therm_rollout.mse_therm[0],color=\"red\",alpha=0.2,label=\"Emulator + Thermalizer\")\n",
    "for aa in range(1,len(therm_rollout.mse_auto)):\n",
    "    #plt.loglog(therm_rollout.mse_auto[aa],color=\"gray\",alpha=0.4)\n",
    "    plt.loglog(therm_rollout.mse_emu[aa],color=\"blue\",alpha=0.2)\n",
    "    plt.loglog(therm_rollout.mse_therm[aa],color=\"red\",alpha=0.2)\n",
    "plt.ylim(1e-3,1e5)\n",
    "plt.legend()\n",
    "plt.ylabel(\"MSE\")\n",
    "plt.xlabel(\"# of steps\")"
   ]
  },
  {
   "cell_type": "code",
   "execution_count": 11,
   "id": "6b0eef1e-a4b1-4752-9e79-c6b9aacb68b3",
   "metadata": {},
   "outputs": [
    {
     "data": {
      "text/plain": [
       "Text(0.5, 0, '# of steps')"
      ]
     },
     "execution_count": 11,
     "metadata": {},
     "output_type": "execute_result"
    },
    {
     "data": {
      "image/png": "[encoded data removed]",
      "text/plain": [
       "<Figure size 640x480 with 1 Axes>"
      ]
     },
     "metadata": {},
     "output_type": "display_data"
    }
   ],
   "source": [
    "plt.title(\"MSE wrt. true trajectory\")\n",
    "plt.loglog(therm_rollout.mse_emu[1],color=\"blue\",alpha=0.2,label=\"Emulator\")\n",
    "plt.loglog(therm_rollout.mse_therm[1],color=\"red\",alpha=0.2,label=\"Emulator + Thermalizer\")\n",
    "plt.ylim(1e-3,1e5)\n",
    "plt.legend()\n",
    "plt.ylabel(\"MSE\")\n",
    "plt.xlabel(\"# of steps\")"
   ]
  },
  {
   "cell_type": "code",
   "execution_count": 12,
   "id": "03d117a4-0e5a-47cb-8cba-a2cf5defc10f",
   "metadata": {},
   "outputs": [
    {
     "data": {
      "text/plain": [
       "1500"
      ]
     },
     "execution_count": 12,
     "metadata": {},
     "output_type": "execute_result"
    }
   ],
   "source": [
    "therm_rollout.aa//2"
   ]
  },
  {
   "cell_type": "code",
   "execution_count": null,
   "id": "43d2cb19-af95-4a19-a546-9f7c7bef1030",
   "metadata": {},
   "outputs": [],
   "source": [
    "plt.title(\"MSE wrt. true trajectory\")\n",
    "plt.loglog(therm_rollout.mse_emu[0],color=\"blue\",alpha=0.1,label=\"Emulator\")\n",
    "plt.loglog(therm_rollout.mse_therm[0],color=\"red\",alpha=0.1,label=\"Emulator + Thermalizer\")\n",
    "for aa in range(1,len(therm_rollout.mse_auto)):\n",
    "    #plt.loglog(therm_rollout.mse_auto[aa],color=\"gray\",alpha=0.4)\n",
    "    plt.loglog(therm_rollout.mse_emu[aa],color=\"blue\",alpha=0.1)\n",
    "    plt.loglog(therm_rollout.mse_therm[aa],color=\"red\",alpha=0.1)\n",
    "plt.ylim(6e-1,1e2)\n",
    "plt.xlim(6e1,3e2)\n",
    "plt.legend()\n",
    "plt.ylabel(\"MSE\")\n",
    "plt.xlabel(\"# of steps\")"
   ]
  },
  {
   "cell_type": "code",
   "execution_count": null,
   "id": "528be371-9594-4ee4-af47-5ecbfe699567",
   "metadata": {},
   "outputs": [],
   "source": [
    "therm_rollout.scattering_target.shape"
   ]
  },
  {
   "cell_type": "code",
   "execution_count": null,
   "id": "103841fa-1e4b-476d-92eb-69dd422b315e",
   "metadata": {},
   "outputs": [],
   "source": [
    "test_field=therm_rollout.test_suite[0,12]\n",
    "plt.figure()\n",
    "plt.imshow(test_field.cpu(),cmap=sns.cm.icefire)\n",
    "plt.colorbar()\n",
    "before_coefficients = therm_rollout.scattering(test_field)\n",
    "\n",
    "\n",
    "new_field=therm_rollout._scattering_therm(torch.clone(test_field.unsqueeze(0).unsqueeze(0)),20,lr=0.001)\n",
    "plt.figure()\n",
    "plt.imshow(new_field.squeeze().cpu(),cmap=sns.cm.icefire)\n",
    "plt.colorbar()\n",
    "new_coefficients = therm_rollout.scattering(new_field.squeeze())\n",
    "plt.figure()\n",
    "plt.plot(torch.mean(before_coefficients[17:],axis=(-2,-1)).cpu(),\"x\")\n",
    "plt.plot(torch.mean(new_coefficients[17:],axis=(-2,-1)).cpu(),\"+\")\n",
    "plt.plot(therm_rollout.scattering_target[0].cpu(),\"o\",color=\"black\")\n",
    "#plt.ylim(0.005,0.027)"
   ]
  },
  {
   "cell_type": "code",
   "execution_count": null,
   "id": "7af651da-2439-41d8-82df-51a80b0a9a23",
   "metadata": {},
   "outputs": [],
   "source": [
    "## Inspect an individual gradient descent~few steps"
   ]
  },
  {
   "cell_type": "code",
   "execution_count": null,
   "id": "d4e47231-7b26-414f-9e5d-5160e49e5696",
   "metadata": {},
   "outputs": [],
   "source": []
  },
  {
   "cell_type": "code",
   "execution_count": 13,
   "id": "ce538e4b-4f02-43f1-8246-9d1369797585",
   "metadata": {},
   "outputs": [],
   "source": [
    "import numpy as np\n",
    "import matplotlib.pyplot as plt\n",
    "import torch\n",
    "import torch.nn as nn\n",
    "import seaborn as sns\n",
    "from scipy.stats import pearsonr\n",
    "import matplotlib.animation as animation\n",
    "from IPython.display import HTML\n",
    "\n",
    "import thermalizer.kolmogorov.util as util\n",
    "\n",
    "\n",
    "class KolmogorovAnimationScattering():\n",
    "    def __init__(self,rollout,batch=1,fps=10,nSteps=1000,savestring=None,skip=1):\n",
    "        \"\"\" \n",
    "            \"\"\"\n",
    "        self.rollout=rollout\n",
    "        self.rollout.test_suite=self.rollout.test_suite.to(\"cpu\")\n",
    "        self.rollout.emu=self.rollout.emu.to(\"cpu\")\n",
    "        self.rollout.therm=self.rollout.therm.to(\"cpu\")\n",
    "        self.batch=batch\n",
    "        self.fps=fps\n",
    "        self.nSteps=nSteps\n",
    "        self.skip=skip\n",
    "        self.nFrames=int(self.nSteps)\n",
    "        self.scattering=Scattering2D(J=2, shape=(64,64), max_order=2)\n",
    "        \n",
    "        self.mse=[]\n",
    "        self.correlation=[]\n",
    "        self.correlation_therm=[]\n",
    "        self.autocorrelation=[]\n",
    "        self.criterion=nn.MSELoss()\n",
    "        self.times=np.arange(0,self.nFrames+0.001,1)\n",
    "\n",
    "        self.residuals=None\n",
    "        self.savestring=savestring\n",
    "        self.grid=grid=util.fourierGrid(64)\n",
    "        self.k1d_plot,self.ketrue=util.get_ke(self.rollout.test_suite[self.batch,0],self.grid)\n",
    "        self.k1d_plot,self.kepred=util.get_ke(self.rollout.emu[self.batch,0],self.grid)\n",
    "        self.k1d_plot,self.ketherm=util.get_ke(self.rollout.therm[self.batch,0],self.grid)\n",
    "        self.i=0\n",
    "        \n",
    "    def _update_metrics(self):\n",
    "        \"\"\" Update metrics for next timestep \"\"\"\n",
    "        #self.correlation.append(pearsonr(self.rollout.emu[self.batch,self.i].numpy().flatten(),self.rollout.test_suite[self.batch,self.i].numpy().flatten())[0])\n",
    "        #self.correlation_therm.append(pearsonr(self.rollout.therm[self.batch,self.i].numpy().flatten(),self.rollout.test_suite[self.batch,self.i].numpy().flatten())[0])\n",
    "        #self.autocorrelation.append(pearsonr(self.rollout.test_suite[self.batch,0].numpy().flatten(),self.rollout.test_suite[self.batch,self.i].numpy().flatten())[0])\n",
    "        #self.mse.append(self.criterion(self.rollout.emu[self.batch,self.i],self.rollout.test_suite[self.batch,self.i]))\n",
    "\n",
    "        _,self.ketrue=util.get_ke(self.rollout.test_suite[self.batch,self.i],self.grid)\n",
    "        _,self.kepred=util.get_ke(self.rollout.emu[self.batch,self.i],self.grid)\n",
    "        _,self.ketherm=util.get_ke(self.rollout.therm[self.batch,self.i],self.grid)\n",
    "\n",
    "        scattering_coefficients = self.scattering(self.rollout.test_suite[self.batch,self.i])\n",
    "        self.scat_true=torch.mean(scattering_coefficients[1:],dim=(1,2))\n",
    "        scattering_coefficients = self.scattering(self.rollout.emu[self.batch,self.i])\n",
    "        self.scat_pred=torch.mean(scattering_coefficients[1:],dim=(1,2))\n",
    "        scattering_coefficients = self.scattering(self.rollout.therm[self.batch,self.i])\n",
    "        self.scat_therm=torch.mean(scattering_coefficients[1:],dim=(1,2))\n",
    "        \n",
    "        return\n",
    "    \n",
    "    def animate(self):\n",
    "        fig, axs = plt.subplots(2, 4,figsize=(14,6))\n",
    "        self.ax1=axs[0][0].imshow(self.rollout.test_suite[self.batch,self.i], cmap=sns.cm.icefire,interpolation='none')\n",
    "        fig.colorbar(self.ax1, ax=axs[0][0])\n",
    "        axs[0][0].set_xticks([]); axs[0][0].set_yticks([])\n",
    "        axs[0][0].set_title(\"Simulation\")\n",
    "\n",
    "        self.ax2=axs[0][1].imshow(self.rollout.emu[self.batch,self.i], cmap=sns.cm.icefire,interpolation='none')\n",
    "        fig.colorbar(self.ax2, ax=axs[0][1])\n",
    "        axs[0][1].set_xticks([]); axs[0][1].set_yticks([])\n",
    "        axs[0][1].set_title(\"Emulator\")\n",
    "\n",
    "        self.ax3=axs[0][2].imshow(self.rollout.test_suite[self.batch,self.i]-self.rollout.emu[self.batch,self.i], cmap=sns.cm.icefire,interpolation='none')\n",
    "        fig.colorbar(self.ax3, ax=axs[0][2])\n",
    "        axs[0][2].set_xticks([]); axs[0][2].set_yticks([])\n",
    "        axs[0][2].set_title(\"Residuals\")\n",
    "        \n",
    "        ## Time evol metrics\n",
    "        axs[0][3].set_title(\"Scattering coefficients\")\n",
    "        self.ax4=[axs[0][3].plot(-1),axs[0][3].plot(-1),axs[0][3].plot(-1),axs[0][3].plot(self.rollout.scattering_target[0].cpu(),\"o\",color=\"black\",alpha=0.5)]\n",
    "        axs[0][3].set_yscale(\"log\")\n",
    "        axs[0][3].set_ylim(0.0025,0.375)\n",
    "        \n",
    "        #axs[0][3].set_xlim(-1,81)\n",
    "\n",
    "        ## Lower layer\n",
    "        self.ax5=axs[1][0].imshow(self.rollout.test_suite[self.batch,self.i], cmap=sns.cm.icefire,interpolation='none')\n",
    "        fig.colorbar(self.ax5, ax=axs[1][0])\n",
    "        axs[1][0].set_xticks([]); axs[1][0].set_yticks([])\n",
    "        axs[1][0].set_title(\"Simulation\")\n",
    "        \n",
    "        self.ax6=axs[1][1].imshow(self.rollout.therm[self.batch,self.i], cmap=sns.cm.icefire,interpolation='none')\n",
    "        fig.colorbar(self.ax6, ax=axs[1][1])\n",
    "        axs[1][1].set_xticks([]); axs[1][1].set_yticks([])\n",
    "        axs[1][1].set_title(\"Thermalized\")\n",
    "\n",
    "        self.ax7=axs[1][2].imshow(self.rollout.test_suite[self.batch,self.i]-self.rollout.therm[self.batch,self.i], cmap=sns.cm.icefire,interpolation='none')\n",
    "        fig.colorbar(self.ax7, ax=axs[1][2])\n",
    "        axs[1][2].set_xticks([]); axs[1][2].set_yticks([])\n",
    "        axs[1][2].set_title(\"Residuals\")\n",
    "\n",
    "        axs[1][3].set_title(\"KE spectra\")\n",
    "        axs[1][3].set_ylim(1e1,1e7)\n",
    "        axs[1][3].set_xlim(6e-1,3.5e1)\n",
    "        self.ax8=[axs[1][3].loglog(-1,label=\"Simulation\"),axs[1][3].loglog(-1,label=\"Emulator\"),axs[1][3].loglog(-1,label=\"Thermalized\")]\n",
    "        axs[1][3].legend()\n",
    "        self.ax8[0][0].set_xdata(self.k1d_plot)\n",
    "        self.ax8[0][0].set_ydata(self.ketrue)\n",
    "        \n",
    "        \n",
    "        self.ax8[1][0].set_xdata(self.k1d_plot)\n",
    "        self.ax8[1][0].set_ydata(self.kepred)\n",
    "\n",
    "        self.ax8[2][0].set_xdata(self.k1d_plot)\n",
    "        self.ax8[2][0].set_ydata(self.ketherm)\n",
    "        \n",
    "        self.time_text=axs[0][2].text(-20,-20,\"\")\n",
    "        \n",
    "        \n",
    "        fig.tight_layout()\n",
    "        \n",
    "        anim = animation.FuncAnimation(\n",
    "                                       fig, \n",
    "                                       self.animate_func, \n",
    "                                       frames = self.nFrames,\n",
    "                                       interval = 1000 / self.fps, # in ms\n",
    "                                       )\n",
    "        plt.close()\n",
    "        \n",
    "        if self.savestring:\n",
    "            print(\"saving\")\n",
    "            # saving to m4 using ffmpeg writer \n",
    "            writervideo = animation.FFMpegWriter(fps=self.fps) \n",
    "            anim.save('%s.mp4' % self.savestring, writer=writervideo) \n",
    "            plt.close()\n",
    "        else:\n",
    "            return HTML(anim.to_html5_video())\n",
    "        \n",
    "    def animate_func(self,i):\n",
    "        if i % self.fps == 0:\n",
    "            print( '.', end ='' )\n",
    "            \n",
    "        self.i=self.skip*i\n",
    "        self._update_metrics()\n",
    "        self.time_text.set_text(\"%d timesteps\" % (self.i))\n",
    "    \n",
    "        ## Set image and colorbar for each panel\n",
    "        image=self.rollout.test_suite[self.batch,self.i]\n",
    "        lim=torch.max(torch.abs(image))\n",
    "        self.ax1.set_array(image)\n",
    "        self.ax1.set_clim(-lim,lim)\n",
    "        \n",
    "        image=self.rollout.emu[self.batch,self.i]\n",
    "        lim=torch.max(torch.abs(image))\n",
    "        self.ax2.set_array(image)\n",
    "        self.ax2.set_clim(-lim,lim)\n",
    "        \n",
    "        image=self.rollout.test_suite[self.batch,self.i]-self.rollout.emu[self.batch,self.i]\n",
    "        lim=torch.max(torch.abs(image))\n",
    "        self.ax3.set_array(image)\n",
    "        self.ax3.set_clim(-lim,lim)\n",
    " \n",
    "        self.ax4[0][0].set_xdata(np.arange(len(self.scat_true)))\n",
    "        self.ax4[0][0].set_ydata(self.scat_true)\n",
    "        \n",
    "        self.ax4[1][0].set_xdata(np.arange(len(self.scat_true)))\n",
    "        self.ax4[1][0].set_ydata(self.scat_pred)\n",
    "\n",
    "        self.ax4[2][0].set_xdata(np.arange(len(self.scat_true)))\n",
    "        self.ax4[2][0].set_ydata(self.scat_therm)\n",
    "\n",
    "        ## Lower panel\n",
    "        image=self.rollout.test_suite[self.batch,self.i]\n",
    "        lim=torch.max(torch.abs(image))\n",
    "        self.ax5.set_array(image)\n",
    "        self.ax5.set_clim(-lim,lim)\n",
    "        \n",
    "        image=self.rollout.therm[self.batch,self.i]\n",
    "        lim=torch.max(torch.abs(image))\n",
    "        self.ax6.set_array(image)\n",
    "        self.ax6.set_clim(-lim,lim)\n",
    "        \n",
    "        image=self.rollout.test_suite[self.batch,self.i]-self.rollout.therm[self.batch,self.i]\n",
    "        lim=torch.max(torch.abs(image))\n",
    "        self.ax7.set_array(image)\n",
    "        self.ax7.set_clim(-lim,lim)\n",
    "\n",
    "\n",
    "        \n",
    "        self.ax8[0][0].set_xdata(self.k1d_plot)\n",
    "        self.ax8[0][0].set_ydata(self.ketrue)\n",
    "        \n",
    "        self.ax8[1][0].set_xdata(self.k1d_plot)\n",
    "        self.ax8[1][0].set_ydata(self.kepred)\n",
    "\n",
    "        self.ax8[2][0].set_xdata(self.k1d_plot)\n",
    "        self.ax8[2][0].set_ydata(self.ketherm)\n",
    "        return "
   ]
  },
  {
   "cell_type": "code",
   "execution_count": 20,
   "id": "077d3ae3-d9b3-4d89-9dc5-5b894a22e0b0",
   "metadata": {},
   "outputs": [],
   "source": [
    "anim=KolmogorovAnimationScattering(therm_rollout,batch=1,nSteps=1499,fps=90,skip=2)"
   ]
  },
  {
   "cell_type": "code",
   "execution_count": null,
   "id": "fecceb37-0f95-43c5-9457-9cb129aa1332",
   "metadata": {},
   "outputs": [
    {
     "name": "stdout",
     "output_type": "stream",
     "text": [
      ".........."
     ]
    }
   ],
   "source": [
    "anim.animate()"
   ]
  },
  {
   "cell_type": "code",
   "execution_count": 23,
   "id": "797c6592-3e83-400f-808e-b5f275f89fce",
   "metadata": {},
   "outputs": [
    {
     "name": "stdout",
     "output_type": "stream",
     "text": [
      "ok\n"
     ]
    }
   ],
   "source": [
    "print(\"ok\")"
   ]
  },
  {
   "cell_type": "code",
   "execution_count": null,
   "id": "3406b142-8837-4ef8-a747-7e3f2c698e49",
   "metadata": {},
   "outputs": [],
   "source": []
  },
  {
   "cell_type": "code",
   "execution_count": null,
   "id": "1f3f2f85-a1b4-420a-84a5-63420c6527c1",
   "metadata": {},
   "outputs": [],
   "source": []
  },
  {
   "cell_type": "code",
   "execution_count": null,
   "id": "dccb895a-4bcf-4330-b691-24e76e89cbb1",
   "metadata": {},
   "outputs": [],
   "source": []
  },
  {
   "cell_type": "code",
   "execution_count": null,
   "id": "364c46ad-4b85-409b-b10b-dba70af0e249",
   "metadata": {},
   "outputs": [],
   "source": []
  },
  {
   "cell_type": "code",
   "execution_count": null,
   "id": "b1aba543-ce70-47b3-8a0b-f0d7d58d4130",
   "metadata": {},
   "outputs": [],
   "source": [
    "torch.tensor([0.0145, 0.0124, 0.0093, 0.0079, 0.0074, 0.0076, 0.0094, 0.0130, 0.0125,\n",
    "        0.0142, 0.0121, 0.0094, 0.0079, 0.0075, 0.0079, 0.0096, 0.0092, 0.0119,\n",
    "        0.0135, 0.0120, 0.0089, 0.0074, 0.0073, 0.0079, 0.0077, 0.0086, 0.0113,\n",
    "        0.0133, 0.0113, 0.0086, 0.0076, 0.0077, 0.0074, 0.0075, 0.0089, 0.0119,\n",
    "        0.0135, 0.0118, 0.0091, 0.0079, 0.0080, 0.0075, 0.0079, 0.0093, 0.0121,\n",
    "        0.0142, 0.0126, 0.0097, 0.0095, 0.0076, 0.0074, 0.0079, 0.0093, 0.0126,\n",
    "        0.0149, 0.0130, 0.0124, 0.0091, 0.0077, 0.0076, 0.0077, 0.0092, 0.0126,\n",
    "        0.0149])"
   ]
  },
  {
   "cell_type": "code",
   "execution_count": null,
   "id": "b7f4121c-e3ea-4a78-8404-4e284b05abae",
   "metadata": {},
   "outputs": [],
   "source": []
  }
 ],
 "metadata": {
  "kernelspec": {
   "display_name": "sing",
   "language": "python",
   "name": "sing"
  },
  "language_info": {
   "codemirror_mode": {
    "name": "ipython",
    "version": 3
   },
   "file_extension": ".py",
   "mimetype": "text/x-python",
   "name": "python",
   "nbconvert_exporter": "python",
   "pygments_lexer": "ipython3",
   "version": "3.9.12"
  }
 },
 "nbformat": 4,
 "nbformat_minor": 5
}
